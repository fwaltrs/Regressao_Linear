{
 "cells": [
  {
   "cell_type": "code",
   "execution_count": 56,
   "id": "b4b9fc3c",
   "metadata": {},
   "outputs": [],
   "source": [
    "#bibliotecas usadas\n",
    "import pandas as pd\n",
    "from sklearn.linear_model import LinearRegression\n",
    "import matplotlib.pyplot as plt\n",
    "from statsmodels.regression.linear_model import OLS\n",
    "from sklearn.metrics import r2_score\n",
    "from scipy import stats\n",
    "import statsmodels.formula.api as sm \n"
   ]
  },
  {
   "cell_type": "code",
   "execution_count": 38,
   "id": "e3cfbec8",
   "metadata": {},
   "outputs": [
    {
     "name": "stdout",
     "output_type": "stream",
     "text": [
      "   FrqAnual  CusInic\n",
      "0      1000     1050\n",
      "1      1125     1150\n",
      "2      1087     1213\n",
      "3      1070     1275\n",
      "4      1100     1300\n",
      "(36, 2)\n"
     ]
    }
   ],
   "source": [
    "#Importando a base de dados e analisando:\n",
    "base = pd.read_csv(\"C:/Users/ferna/OneDrive/Área de Trabalho/Python/CURSO UDEMY- PYTHON/22.Prática em Python/dados/slr12.csv\",sep=';')\n",
    "print(base.head())\n",
    "print(base.shape)"
   ]
  },
  {
   "cell_type": "code",
   "execution_count": 39,
   "id": "2c49b059",
   "metadata": {},
   "outputs": [],
   "source": [
    "#FrqAnual : Taxa anual\n",
    "# CusLnic: investimento Inicial\n",
    "# Criar um modelo de regressão linear para prever qual será o investimento inicial necessario a partir da taxa anual"
   ]
  },
  {
   "cell_type": "code",
   "execution_count": 40,
   "id": "89e5adaf",
   "metadata": {},
   "outputs": [],
   "source": [
    "x = base.iloc[:,0].values\n",
    "y = base.iloc[:,1].values"
   ]
  },
  {
   "cell_type": "code",
   "execution_count": 41,
   "id": "bb6ba04f",
   "metadata": {},
   "outputs": [
    {
     "data": {
      "text/plain": [
       "array([[1.        , 0.47700725],\n",
       "       [0.47700725, 1.        ]])"
      ]
     },
     "execution_count": 41,
     "metadata": {},
     "output_type": "execute_result"
    }
   ],
   "source": [
    "# Analisar a correlação:\n",
    "correlacao = np.corrcoef(x,y)\n",
    "correlacao #correlação positiva baixa"
   ]
  },
  {
   "cell_type": "code",
   "execution_count": 42,
   "id": "517a04b5",
   "metadata": {},
   "outputs": [
    {
     "data": {
      "text/plain": [
       "LinearRegression()"
      ]
     },
     "execution_count": 42,
     "metadata": {},
     "output_type": "execute_result"
    }
   ],
   "source": [
    "X = x.reshape(-1,1)\n",
    "modelo = LinearRegression()\n",
    "modelo.fit(X,y)"
   ]
  },
  {
   "cell_type": "code",
   "execution_count": 43,
   "id": "a3dffba7",
   "metadata": {},
   "outputs": [
    {
     "name": "stdout",
     "output_type": "stream",
     "text": [
      "867.6042222620558\n",
      "[0.37315794]\n"
     ]
    },
    {
     "data": {
      "text/plain": [
       "[<matplotlib.lines.Line2D at 0x17d60602160>]"
      ]
     },
     "execution_count": 43,
     "metadata": {},
     "output_type": "execute_result"
    },
    {
     "data": {
      "image/png": "[encoded data removed]",
      "text/plain": [
       "<Figure size 432x288 with 1 Axes>"
      ]
     },
     "metadata": {
      "needs_background": "light"
     },
     "output_type": "display_data"
    }
   ],
   "source": [
    "# Fazer o modelo de regressão Linear simples\n",
    "print(modelo.intercept_) #intercepto\n",
    "print(modelo.coef_) #coeficiente B1\n",
    "\n",
    "plt.scatter(X,y) # gráfico de valores observados e reta de regressão\n",
    "plt.plot(X,modelo.predict(X),color='red')"
   ]
  },
  {
   "cell_type": "code",
   "execution_count": 44,
   "id": "af207add",
   "metadata": {},
   "outputs": [
    {
     "data": {
      "image/png": "[encoded data removed]",
      "text/plain": [
       "<Figure size 576x288 with 2 Axes>"
      ]
     },
     "metadata": {
      "needs_background": "light"
     },
     "output_type": "display_data"
    }
   ],
   "source": [
    "# Análise de resíduos \n",
    "y_pred = modelo.predict(X)\n",
    "\n",
    "# Calcule os resíduos\n",
    "residuals = y - y_pred\n",
    "plt.figure(figsize=(8, 4))\n",
    "plt.subplot(1, 2, 1)\n",
    "plt.scatter(y_pred, residuals)\n",
    "plt.title('Gráfico de Resíduos vs. Valores Preditos')\n",
    "plt.xlabel('Valores Preditos')\n",
    "plt.ylabel('Resíduos')\n",
    "\n",
    "plt.subplot(1, 2, 2)\n",
    "plt.hist(residuals, bins=20, edgecolor='k')\n",
    "plt.title('Histograma de Resíduos')\n",
    "plt.xlabel('Resíduos')\n",
    "\n",
    "plt.tight_layout()\n",
    "plt.show()"
   ]
  },
  {
   "cell_type": "code",
   "execution_count": 45,
   "id": "476ad26b",
   "metadata": {},
   "outputs": [
    {
     "name": "stdout",
     "output_type": "stream",
     "text": [
      "0.00010717472468968481\n",
      "0.00010717472468968481\n",
      "7.073559174041196e-10\n"
     ]
    }
   ],
   "source": [
    "# Testes para normalidade\n",
    "statistic, p_value = stats.shapiro(residuals)\n",
    "print(p_value)\n",
    "statistic, p_value2 = stats.shapiro(residuals)\n",
    "print(p_value2)\n",
    "statistic, p_value3 = stats.kstest(residuals, 'norm')\n",
    "print(p_value3)\n",
    "\n",
    "#os resíduos não são normais! logo, o modelo de regressão linear simples não é adequado. "
   ]
  },
  {
   "cell_type": "code",
   "execution_count": 46,
   "id": "1c4985a1",
   "metadata": {},
   "outputs": [
    {
     "data": {
      "text/plain": [
       "0.2275359181555101"
      ]
     },
     "execution_count": 46,
     "metadata": {},
     "output_type": "execute_result"
    }
   ],
   "source": [
    "# Para fins didáticos vou analisar supondo as suposições satisfeitas:\n",
    "# Calcular o coeficiente de determinação\n",
    "r_squared = r2_score(y, y_pred)\n",
    "r_squared"
   ]
  },
  {
   "cell_type": "code",
   "execution_count": 54,
   "id": "2fc8e98d",
   "metadata": {
    "scrolled": true
   },
   "outputs": [
    {
     "data": {
      "text/html": [
       "<table class=\"simpletable\">\n",
       "<caption>OLS Regression Results</caption>\n",
       "<tr>\n",
       "  <th>Dep. Variable:</th>            <td>y</td>        <th>  R-squared:         </th> <td>   0.228</td>\n",
       "</tr>\n",
       "<tr>\n",
       "  <th>Model:</th>                   <td>OLS</td>       <th>  Adj. R-squared:    </th> <td>   0.205</td>\n",
       "</tr>\n",
       "<tr>\n",
       "  <th>Method:</th>             <td>Least Squares</td>  <th>  F-statistic:       </th> <td>   10.01</td>\n",
       "</tr>\n",
       "<tr>\n",
       "  <th>Date:</th>             <td>Thu, 14 Sep 2023</td> <th>  Prob (F-statistic):</th>  <td>0.00327</td>\n",
       "</tr>\n",
       "<tr>\n",
       "  <th>Time:</th>                 <td>21:48:41</td>     <th>  Log-Likelihood:    </th> <td> -219.47</td>\n",
       "</tr>\n",
       "<tr>\n",
       "  <th>No. Observations:</th>      <td>    36</td>      <th>  AIC:               </th> <td>   442.9</td>\n",
       "</tr>\n",
       "<tr>\n",
       "  <th>Df Residuals:</th>          <td>    34</td>      <th>  BIC:               </th> <td>   446.1</td>\n",
       "</tr>\n",
       "<tr>\n",
       "  <th>Df Model:</th>              <td>     1</td>      <th>                     </th>     <td> </td>   \n",
       "</tr>\n",
       "<tr>\n",
       "  <th>Covariance Type:</th>      <td>nonrobust</td>    <th>                     </th>     <td> </td>   \n",
       "</tr>\n",
       "</table>\n",
       "<table class=\"simpletable\">\n",
       "<tr>\n",
       "      <td></td>         <th>coef</th>     <th>std err</th>      <th>t</th>      <th>P>|t|</th>  <th>[0.025</th>    <th>0.975]</th>  \n",
       "</tr>\n",
       "<tr>\n",
       "  <th>Intercept</th> <td>  867.6042</td> <td>  135.071</td> <td>    6.423</td> <td> 0.000</td> <td>  593.107</td> <td> 1142.102</td>\n",
       "</tr>\n",
       "<tr>\n",
       "  <th>x</th>         <td>    0.3732</td> <td>    0.118</td> <td>    3.165</td> <td> 0.003</td> <td>    0.134</td> <td>    0.613</td>\n",
       "</tr>\n",
       "</table>\n",
       "<table class=\"simpletable\">\n",
       "<tr>\n",
       "  <th>Omnibus:</th>       <td>32.231</td> <th>  Durbin-Watson:     </th> <td>   1.740</td>\n",
       "</tr>\n",
       "<tr>\n",
       "  <th>Prob(Omnibus):</th> <td> 0.000</td> <th>  Jarque-Bera (JB):  </th> <td>  96.481</td>\n",
       "</tr>\n",
       "<tr>\n",
       "  <th>Skew:</th>          <td> 1.975</td> <th>  Prob(JB):          </th> <td>1.12e-21</td>\n",
       "</tr>\n",
       "<tr>\n",
       "  <th>Kurtosis:</th>      <td> 9.979</td> <th>  Cond. No.          </th> <td>8.39e+03</td>\n",
       "</tr>\n",
       "</table><br/><br/>Notes:<br/>[1] Standard Errors assume that the covariance matrix of the errors is correctly specified.<br/>[2] The condition number is large, 8.39e+03. This might indicate that there are<br/>strong multicollinearity or other numerical problems."
      ],
      "text/plain": [
       "<class 'statsmodels.iolib.summary.Summary'>\n",
       "\"\"\"\n",
       "                            OLS Regression Results                            \n",
       "==============================================================================\n",
       "Dep. Variable:                      y   R-squared:                       0.228\n",
       "Model:                            OLS   Adj. R-squared:                  0.205\n",
       "Method:                 Least Squares   F-statistic:                     10.01\n",
       "Date:                Thu, 14 Sep 2023   Prob (F-statistic):            0.00327\n",
       "Time:                        21:48:41   Log-Likelihood:                -219.47\n",
       "No. Observations:                  36   AIC:                             442.9\n",
       "Df Residuals:                      34   BIC:                             446.1\n",
       "Df Model:                           1                                         \n",
       "Covariance Type:            nonrobust                                         \n",
       "==============================================================================\n",
       "                 coef    std err          t      P>|t|      [0.025      0.975]\n",
       "------------------------------------------------------------------------------\n",
       "Intercept    867.6042    135.071      6.423      0.000     593.107    1142.102\n",
       "x              0.3732      0.118      3.165      0.003       0.134       0.613\n",
       "==============================================================================\n",
       "Omnibus:                       32.231   Durbin-Watson:                   1.740\n",
       "Prob(Omnibus):                  0.000   Jarque-Bera (JB):               96.481\n",
       "Skew:                           1.975   Prob(JB):                     1.12e-21\n",
       "Kurtosis:                       9.979   Cond. No.                     8.39e+03\n",
       "==============================================================================\n",
       "\n",
       "Notes:\n",
       "[1] Standard Errors assume that the covariance matrix of the errors is correctly specified.\n",
       "[2] The condition number is large, 8.39e+03. This might indicate that there are\n",
       "strong multicollinearity or other numerical problems.\n",
       "\"\"\""
      ]
     },
     "execution_count": 54,
     "metadata": {},
     "output_type": "execute_result"
    }
   ],
   "source": [
    "# para obter mais informações decidi utilizar a função ols\n",
    "modelo_ajustado = sm.ols(formula='y~x',data=base)\n",
    "modelo_treinado = modelo_ajustado.fit()\n",
    "modelo_treinado.summary()"
   ]
  },
  {
   "cell_type": "markdown",
   "id": "d3d1e74b",
   "metadata": {},
   "source": [
    "O parâmetros estimados para o intercepto e para o coeficiente B1 são ambos significativos pelo teste -t. A função de regressão é u(x) = 867.6042 + 0.3732 x1, x1 sendo a taxa anual. "
   ]
  },
  {
   "cell_type": "code",
   "execution_count": 55,
   "id": "14a20ddc",
   "metadata": {},
   "outputs": [
    {
     "data": {
      "text/plain": [
       "array([1781.84116529])"
      ]
     },
     "execution_count": 55,
     "metadata": {},
     "output_type": "execute_result"
    }
   ],
   "source": [
    "# predição para 2450 u.n de taxa anual\n",
    "\n",
    "modelo.predict([[2450]])\n",
    "\n",
    "#Estima-se que o investimento inicial seja de 1781.84 reais é necessário tendo 2450 u.n como taxa anual. "
   ]
  },
  {
   "cell_type": "code",
   "execution_count": null,
   "id": "7f0bb2bc",
   "metadata": {},
   "outputs": [],
   "source": []
  }
 ],
 "metadata": {
  "kernelspec": {
   "display_name": "Python 3 (ipykernel)",
   "language": "python",
   "name": "python3"
  },
  "language_info": {
   "codemirror_mode": {
    "name": "ipython",
    "version": 3
   },
   "file_extension": ".py",
   "mimetype": "text/x-python",
   "name": "python",
   "nbconvert_exporter": "python",
   "pygments_lexer": "ipython3",
   "version": "3.9.12"
  }
 },
 "nbformat": 4,
 "nbformat_minor": 5
}
